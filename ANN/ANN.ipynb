{
  "cells": [
    {
      "cell_type": "code",
      "execution_count": 1,
      "metadata": {
        "colab": {
          "base_uri": "https://localhost:8080/"
        },
        "id": "-X47ElWQlycl",
        "outputId": "140cfc27-717a-437c-e5fc-17405914b787"
      },
      "outputs": [
        {
          "output_type": "stream",
          "name": "stdout",
          "text": [
            "Collecting opendatasets\n",
            "  Downloading opendatasets-0.1.22-py3-none-any.whl.metadata (9.2 kB)\n",
            "Requirement already satisfied: tqdm in /usr/local/lib/python3.12/dist-packages (from opendatasets) (4.67.1)\n",
            "Requirement already satisfied: kaggle in /usr/local/lib/python3.12/dist-packages (from opendatasets) (1.7.4.5)\n",
            "Requirement already satisfied: click in /usr/local/lib/python3.12/dist-packages (from opendatasets) (8.3.0)\n",
            "Requirement already satisfied: bleach in /usr/local/lib/python3.12/dist-packages (from kaggle->opendatasets) (6.2.0)\n",
            "Requirement already satisfied: certifi>=14.05.14 in /usr/local/lib/python3.12/dist-packages (from kaggle->opendatasets) (2025.10.5)\n",
            "Requirement already satisfied: charset-normalizer in /usr/local/lib/python3.12/dist-packages (from kaggle->opendatasets) (3.4.3)\n",
            "Requirement already satisfied: idna in /usr/local/lib/python3.12/dist-packages (from kaggle->opendatasets) (3.10)\n",
            "Requirement already satisfied: protobuf in /usr/local/lib/python3.12/dist-packages (from kaggle->opendatasets) (5.29.5)\n",
            "Requirement already satisfied: python-dateutil>=2.5.3 in /usr/local/lib/python3.12/dist-packages (from kaggle->opendatasets) (2.9.0.post0)\n",
            "Requirement already satisfied: python-slugify in /usr/local/lib/python3.12/dist-packages (from kaggle->opendatasets) (8.0.4)\n",
            "Requirement already satisfied: requests in /usr/local/lib/python3.12/dist-packages (from kaggle->opendatasets) (2.32.4)\n",
            "Requirement already satisfied: setuptools>=21.0.0 in /usr/local/lib/python3.12/dist-packages (from kaggle->opendatasets) (75.2.0)\n",
            "Requirement already satisfied: six>=1.10 in /usr/local/lib/python3.12/dist-packages (from kaggle->opendatasets) (1.17.0)\n",
            "Requirement already satisfied: text-unidecode in /usr/local/lib/python3.12/dist-packages (from kaggle->opendatasets) (1.3)\n",
            "Requirement already satisfied: urllib3>=1.15.1 in /usr/local/lib/python3.12/dist-packages (from kaggle->opendatasets) (2.5.0)\n",
            "Requirement already satisfied: webencodings in /usr/local/lib/python3.12/dist-packages (from kaggle->opendatasets) (0.5.1)\n",
            "Downloading opendatasets-0.1.22-py3-none-any.whl (15 kB)\n",
            "Installing collected packages: opendatasets\n",
            "Successfully installed opendatasets-0.1.22\n",
            "Please provide your Kaggle credentials to download this dataset. Learn more: http://bit.ly/kaggle-creds\n",
            "Your Kaggle username: thanachotvilai\n",
            "Your Kaggle Key: ··········\n",
            "Dataset URL: https://www.kaggle.com/datasets/akshaydattatraykhare/diabetes-dataset\n",
            "Downloading diabetes-dataset.zip to ./diabetes-dataset\n"
          ]
        },
        {
          "output_type": "stream",
          "name": "stderr",
          "text": [
            "100%|██████████| 8.91k/8.91k [00:00<00:00, 4.39MB/s]"
          ]
        },
        {
          "output_type": "stream",
          "name": "stdout",
          "text": [
            "\n"
          ]
        },
        {
          "output_type": "stream",
          "name": "stderr",
          "text": [
            "\n"
          ]
        }
      ],
      "source": [
        "#dataset\n",
        "import pandas as pd\n",
        "import torch\n",
        "import torch.nn as nn\n",
        "import torch.optim as optim\n",
        "import torch.nn.functional as F\n",
        "import numpy as np\n",
        "import matplotlib.pyplot as plt\n",
        "from sklearn.model_selection import train_test_split\n",
        "from sklearn.preprocessing import StandardScaler\n",
        "from torch.utils.data import DataLoader, TensorDataset\n",
        "from sklearn.metrics import accuracy_score\n",
        "\n",
        "# vvvvvvvvvvvvvvvvvv\n",
        "ds_source = \"Kaggle\"\n",
        "# ^^^^^^^^^^^^^^^^^^\n",
        "if ds_source == \"local\":\n",
        "  # Option1: # โหลด dataset จากลิงก์โดยล็อคอินด้วยบัญชีที่สมัครกับ Kaggle และนำเข้าจากอุปกรณ์ส่วนตัวแปะลงบน file folder หรือชี้ไปที่ directory ที่เก็บไว้\n",
        "  dir = './diabetes-dataset.csv'\n",
        "  df = pd.read_csv(dir)\n",
        "elif ds_source == \"Kaggle\":\n",
        "  # Option2: ดาวน์โหลดชุดข้อมูลจาก library\n",
        "  !pip install opendatasets\n",
        "  import opendatasets as od\n",
        "  od.download('https://www.kaggle.com/datasets/akshaydattatraykhare/diabetes-dataset')\n",
        "  df = pd.read_csv('diabetes-dataset/diabetes.csv')"
      ]
    },
    {
      "cell_type": "code",
      "execution_count": 2,
      "metadata": {
        "colab": {
          "base_uri": "https://localhost:8080/"
        },
        "id": "C9B3imtvuoUO",
        "outputId": "004aa764-4886-44d2-f20c-a42220dbc65e"
      },
      "outputs": [
        {
          "output_type": "stream",
          "name": "stdout",
          "text": [
            "ดูฟีเจอร์ทั้งหมดที่มี : \n",
            "    Pregnancies  Glucose  BloodPressure  SkinThickness  Insulin   BMI  \\\n",
            "0            6      148             72             35        0  33.6   \n",
            "1            1       85             66             29        0  26.6   \n",
            "2            8      183             64              0        0  23.3   \n",
            "3            1       89             66             23       94  28.1   \n",
            "4            0      137             40             35      168  43.1   \n",
            "\n",
            "   DiabetesPedigreeFunction  Age  Outcome  \n",
            "0                     0.627   50        1  \n",
            "1                     0.351   31        0  \n",
            "2                     0.672   32        1  \n",
            "3                     0.167   21        0  \n",
            "4                     2.288   33        1  \n",
            "<class 'pandas.core.frame.DataFrame'>\n",
            "RangeIndex: 768 entries, 0 to 767\n",
            "Data columns (total 9 columns):\n",
            " #   Column                    Non-Null Count  Dtype  \n",
            "---  ------                    --------------  -----  \n",
            " 0   Pregnancies               768 non-null    int64  \n",
            " 1   Glucose                   768 non-null    int64  \n",
            " 2   BloodPressure             768 non-null    int64  \n",
            " 3   SkinThickness             768 non-null    int64  \n",
            " 4   Insulin                   768 non-null    int64  \n",
            " 5   BMI                       768 non-null    float64\n",
            " 6   DiabetesPedigreeFunction  768 non-null    float64\n",
            " 7   Age                       768 non-null    int64  \n",
            " 8   Outcome                   768 non-null    int64  \n",
            "dtypes: float64(2), int64(7)\n",
            "memory usage: 54.1 KB\n",
            "ดูประเภทข้อมูลทั้งหมดที่มี : \n",
            " None\n"
          ]
        }
      ],
      "source": [
        "print('ดูฟีเจอร์ทั้งหมดที่มี : \\n', df.head())\n",
        "print('ดูประเภทข้อมูลทั้งหมดที่มี : \\n', df.info())"
      ]
    },
    {
      "cell_type": "code",
      "execution_count": 3,
      "metadata": {
        "colab": {
          "base_uri": "https://localhost:8080/"
        },
        "id": "Wrqe1UX3yt44",
        "outputId": "407ff760-3a26-4811-8fcb-db1489e0820e"
      },
      "outputs": [
        {
          "output_type": "stream",
          "name": "stdout",
          "text": [
            "ค่าเอกลักของค่ากลูโคส: \n",
            " [148  85 183  89 137 116  78 115 197 125 110 168 139 189 166 100 118 107\n",
            " 103 126  99 196 119 143 147  97 145 117 109 158  88  92 122 138 102  90\n",
            " 111 180 133 106 171 159 146  71 105 101 176 150  73 187  84  44 141 114\n",
            "  95 129  79   0  62 131 112 113  74  83 136  80 123  81 134 142 144  93\n",
            " 163 151  96 155  76 160 124 162 132 120 173 170 128 108 154  57 156 153\n",
            " 188 152 104  87  75 179 130 194 181 135 184 140 177 164  91 165  86 193\n",
            " 191 161 167  77 182 157 178  61  98 127  82  72 172  94 175 195  68 186\n",
            " 198 121  67 174 199  56 169 149  65 190] \n",
            "\n",
            "ค่ามากสุดของกลูโคส : 199\n",
            "ค่าน้อยสุดของกลูโคส : 0\n",
            "ค่าเอกลัก:  [1 0]\n",
            "จำนวนคลาสที่กำหนดใช้จริง:  Outcome\n",
            "0    500\n",
            "1    268\n",
            "Name: count, dtype: int64\n"
          ]
        }
      ],
      "source": [
        "print('ค่าเอกลักของค่ากลูโคส: \\n', df['Glucose'].unique(), '\\n')\n",
        "print('ค่ามากสุดของกลูโคส :', df['Glucose'].max())\n",
        "print('ค่าน้อยสุดของกลูโคส :', df['Glucose'].min())\n",
        "print('ค่าเอกลัก: ', df['Outcome'].unique())\n",
        "print('จำนวนคลาสที่กำหนดใช้จริง: ', df['Outcome'].value_counts())"
      ]
    },
    {
      "cell_type": "code",
      "source": [
        "X = df.drop(columns=['Outcome']).values\n",
        "y = df['Outcome'].values.reshape(-1,1)\n",
        "\n",
        "X_train, X_test, y_train, y_test = train_test_split(X, y, test_size=0.2, random_state=42)\n",
        "\n",
        "scaler = StandardScaler()\n",
        "X_train = scaler.fit_transform(X_train)\n",
        "X_test = scaler.transform(X_test)\n",
        "\n",
        "X_train_tensor = torch.tensor(X_train, dtype=torch.float32)\n",
        "X_test_tensor = torch.tensor(X_test, dtype=torch.float32)\n",
        "y_train_tensor = torch.tensor(y_train, dtype=torch.float32)\n",
        "y_test_tensor = torch.tensor(y_test, dtype=torch.float32)\n",
        "\n",
        "class OneLayerMLP(nn.Module):\n",
        "    def __init__(self, input_dim, output_dim):\n",
        "        super().__init__()\n",
        "        self.layers = nn.Linear(input_dim, output_dim)\n",
        "    def forward(self, x):\n",
        "        return self.layers(x)\n",
        "\n",
        "class TwoLayerMLP(nn.Module):\n",
        "    def __init__(self, input_dim, hidden_dim, output_dim, dropout=0.3):\n",
        "        super().__init__()\n",
        "        self.layers = nn.Sequential(\n",
        "            nn.Linear(input_dim, hidden_dim),\n",
        "            nn.BatchNorm1d(hidden_dim),\n",
        "            nn.ReLU(),\n",
        "            nn.Dropout(dropout),\n",
        "            nn.Linear(hidden_dim, output_dim)\n",
        "        )\n",
        "    def forward(self, x):\n",
        "        return self.layers(x)\n",
        "\n",
        "# -------------------\n",
        "# Hyperparameters\n",
        "# -------------------\n",
        "epochs = 1000\n",
        "batch_size = 32\n",
        "lr = 0.001\n",
        "input_dim = X_train.shape[1]\n",
        "output_dim = 1\n",
        "\n",
        "\n",
        "# 1. One layer\n",
        "model1 = OneLayerMLP(input_dim, output_dim)\n",
        "# 2. Two layer hidden 16\n",
        "model2 = TwoLayerMLP(input_dim, 16, output_dim)\n",
        "# 3. Two layer hidden 64\n",
        "model3 = TwoLayerMLP(input_dim, 64, output_dim)\n",
        "\n",
        "model_cls = model2\n",
        "\n",
        "train_dataset = TensorDataset(X_train_tensor, y_train_tensor)\n",
        "train_loader = DataLoader(train_dataset, batch_size=batch_size, shuffle=True)\n",
        "test_dataset = TensorDataset(X_test_tensor, y_test_tensor)\n",
        "test_loader = DataLoader(test_dataset, batch_size=batch_size, shuffle=False)\n",
        "\n",
        "\n",
        "criterion = nn.BCEWithLogitsLoss()\n",
        "optimizer = optim.Adam(model_cls.parameters(), lr=lr)\n",
        "\n",
        "for epoch in range(epochs):\n",
        "    model_cls.train()\n",
        "    train_loss = 0\n",
        "    train_correct = 0\n",
        "\n",
        "    for X_batch, y_batch in train_loader:\n",
        "        optimizer.zero_grad()\n",
        "        outputs = model_cls(X_batch)\n",
        "        loss = criterion(outputs, y_batch)\n",
        "        loss.backward()\n",
        "        optimizer.step()\n",
        "        train_loss += loss.item() * X_batch.size(0)\n",
        "        preds = (torch.sigmoid(outputs) >= 0.5).float()\n",
        "        train_correct += (preds == y_batch).sum().item()\n",
        "\n",
        "    avg_train_loss = train_loss / len(train_dataset)\n",
        "    train_acc = train_correct / len(train_dataset)\n",
        "\n",
        "    model_cls.eval()\n",
        "    val_loss = 0\n",
        "    val_correct = 0\n",
        "    with torch.no_grad():\n",
        "        for X_val, y_val in test_loader:\n",
        "            outputs = model_cls(X_val)\n",
        "            loss = criterion(outputs, y_val)\n",
        "            val_loss += loss.item() * X_val.size(0)\n",
        "            preds = (torch.sigmoid(outputs) >= 0.5).float()\n",
        "            val_correct += (preds == y_val).sum().item()\n",
        "\n",
        "    avg_val_loss = val_loss / len(test_dataset)\n",
        "    val_acc = val_correct / len(test_dataset)\n",
        "\n",
        "    if (epoch+1) % 100 == 0 or epoch==0:\n",
        "        print(f\"Epoch {epoch+1}/{epochs}, \"\n",
        "              f\"Train Loss: {avg_train_loss:.4f}, Val Loss: {avg_val_loss:.4f}, \"\n",
        "              f\"Train Acc: {train_acc:.4f}, Val Acc: {val_acc:.4f}\")\n",
        "\n",
        "model_cls.eval()\n",
        "with torch.no_grad():\n",
        "    test_outputs = model_cls(X_test_tensor)\n",
        "    test_preds = torch.sigmoid(test_outputs)\n",
        "    test_preds_class = (test_preds >= 0.5).int()\n",
        "df_pred = pd.DataFrame(test_preds_class.numpy(), columns=[\"Diagnosis results\"])\n",
        "df_pred.to_csv(\"diagnosis_for_diabetes_test-val-set.csv\", index=False)"
      ],
      "metadata": {
        "colab": {
          "base_uri": "https://localhost:8080/"
        },
        "id": "WUgXZE1sAEQf",
        "outputId": "c98d507c-b9c1-4bd7-d2b0-ce707da855e3"
      },
      "execution_count": 48,
      "outputs": [
        {
          "output_type": "stream",
          "name": "stdout",
          "text": [
            "Epoch 1/1000, Train Loss: 0.6909, Val Loss: 0.6802, Train Acc: 0.5603, Val Acc: 0.5909\n",
            "Epoch 100/1000, Train Loss: 0.4460, Val Loss: 0.5160, Train Acc: 0.7932, Val Acc: 0.7597\n",
            "Epoch 200/1000, Train Loss: 0.4456, Val Loss: 0.5279, Train Acc: 0.7818, Val Acc: 0.7468\n",
            "Epoch 300/1000, Train Loss: 0.4405, Val Loss: 0.5347, Train Acc: 0.7948, Val Acc: 0.7468\n",
            "Epoch 400/1000, Train Loss: 0.4486, Val Loss: 0.5360, Train Acc: 0.7883, Val Acc: 0.7338\n",
            "Epoch 500/1000, Train Loss: 0.4341, Val Loss: 0.5435, Train Acc: 0.7980, Val Acc: 0.7532\n",
            "Epoch 600/1000, Train Loss: 0.4247, Val Loss: 0.5617, Train Acc: 0.7997, Val Acc: 0.7468\n",
            "Epoch 700/1000, Train Loss: 0.4316, Val Loss: 0.5532, Train Acc: 0.7964, Val Acc: 0.7273\n",
            "Epoch 800/1000, Train Loss: 0.4536, Val Loss: 0.5568, Train Acc: 0.7818, Val Acc: 0.7273\n",
            "Epoch 900/1000, Train Loss: 0.4320, Val Loss: 0.5542, Train Acc: 0.7997, Val Acc: 0.7208\n",
            "Epoch 1000/1000, Train Loss: 0.4197, Val Loss: 0.5545, Train Acc: 0.8029, Val Acc: 0.7273\n"
          ]
        }
      ]
    }
  ],
  "metadata": {
    "colab": {
      "provenance": []
    },
    "kernelspec": {
      "display_name": "Python 3",
      "name": "python3"
    },
    "language_info": {
      "name": "python"
    }
  },
  "nbformat": 4,
  "nbformat_minor": 0
}